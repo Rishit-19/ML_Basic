{
 "cells": [
  {
   "cell_type": "code",
   "execution_count": 1,
   "metadata": {},
   "outputs": [],
   "source": [
    "import matplotlib.pyplot as plt\n",
    "from sklearn.datasets import load_digits"
   ]
  },
  {
   "cell_type": "code",
   "execution_count": 2,
   "metadata": {},
   "outputs": [
    {
     "data": {
      "text/plain": [
       "['DESCR', 'data', 'feature_names', 'frame', 'images', 'target', 'target_names']"
      ]
     },
     "execution_count": 2,
     "metadata": {},
     "output_type": "execute_result"
    }
   ],
   "source": [
    "digits= load_digits()\n",
    "dir(digits)"
   ]
  },
  {
   "cell_type": "code",
   "execution_count": 3,
   "metadata": {},
   "outputs": [
    {
     "data": {
      "text/plain": [
       "array([ 0.,  0.,  5., 13.,  9.,  1.,  0.,  0.,  0.,  0., 13., 15., 10.,\n",
       "       15.,  5.,  0.,  0.,  3., 15.,  2.,  0., 11.,  8.,  0.,  0.,  4.,\n",
       "       12.,  0.,  0.,  8.,  8.,  0.,  0.,  5.,  8.,  0.,  0.,  9.,  8.,\n",
       "        0.,  0.,  4., 11.,  0.,  1., 12.,  7.,  0.,  0.,  2., 14.,  5.,\n",
       "       10., 12.,  0.,  0.,  0.,  0.,  6., 13., 10.,  0.,  0.,  0.])"
      ]
     },
     "execution_count": 3,
     "metadata": {},
     "output_type": "execute_result"
    }
   ],
   "source": [
    "digits.data[0]"
   ]
  },
  {
   "cell_type": "code",
   "execution_count": 9,
   "metadata": {},
   "outputs": [
    {
     "data": {
      "text/plain": [
       "<matplotlib.image.AxesImage at 0x1fa7ae690d0>"
      ]
     },
     "execution_count": 9,
     "metadata": {},
     "output_type": "execute_result"
    },
    {
     "data": {
      "text/plain": [
       "<Figure size 432x288 with 0 Axes>"
      ]
     },
     "metadata": {},
     "output_type": "display_data"
    },
    {
     "data": {
      "image/png": "[encoded data removed]",
      "text/plain": [
       "<Figure size 288x288 with 1 Axes>"
      ]
     },
     "metadata": {
      "needs_background": "light"
     },
     "output_type": "display_data"
    }
   ],
   "source": [
    "plt.gray()\n",
    "plt.matshow(digits.images[24])"
   ]
  },
  {
   "cell_type": "code",
   "execution_count": 10,
   "metadata": {},
   "outputs": [
    {
     "data": {
      "text/plain": [
       "4"
      ]
     },
     "execution_count": 10,
     "metadata": {},
     "output_type": "execute_result"
    }
   ],
   "source": [
    "digits.target[24]"
   ]
  },
  {
   "cell_type": "code",
   "execution_count": 32,
   "metadata": {},
   "outputs": [],
   "source": [
    "from sklearn.model_selection import train_test_split"
   ]
  },
  {
   "cell_type": "code",
   "execution_count": 33,
   "metadata": {},
   "outputs": [],
   "source": [
    "X_train, X_test, y_train, y_test= train_test_split(digits.data, digits.target, test_size= 0.2)"
   ]
  },
  {
   "cell_type": "code",
   "execution_count": 34,
   "metadata": {},
   "outputs": [
    {
     "data": {
      "text/plain": [
       "1437"
      ]
     },
     "execution_count": 34,
     "metadata": {},
     "output_type": "execute_result"
    }
   ],
   "source": [
    "len(X_train)"
   ]
  },
  {
   "cell_type": "code",
   "execution_count": 40,
   "metadata": {},
   "outputs": [],
   "source": [
    "from sklearn.linear_model import LogisticRegression\n",
    "log = LogisticRegression(solver='lbfgs', max_iter=2000)"
   ]
  },
  {
   "cell_type": "code",
   "execution_count": 41,
   "metadata": {},
   "outputs": [
    {
     "data": {
      "text/plain": [
       "LogisticRegression(max_iter=2000)"
      ]
     },
     "execution_count": 41,
     "metadata": {},
     "output_type": "execute_result"
    }
   ],
   "source": [
    "log.fit(X_train, y_train)"
   ]
  },
  {
   "cell_type": "code",
   "execution_count": 43,
   "metadata": {},
   "outputs": [
    {
     "data": {
      "text/plain": [
       "0.9583333333333334"
      ]
     },
     "execution_count": 43,
     "metadata": {},
     "output_type": "execute_result"
    }
   ],
   "source": [
    "log.score(X_test, y_test)"
   ]
  },
  {
   "cell_type": "code",
   "execution_count": 45,
   "metadata": {},
   "outputs": [
    {
     "data": {
      "text/plain": [
       "<matplotlib.image.AxesImage at 0x1fa7b82ceb0>"
      ]
     },
     "execution_count": 45,
     "metadata": {},
     "output_type": "execute_result"
    },
    {
     "data": {
      "image/png": "[encoded data removed]",
      "text/plain": [
       "<Figure size 288x288 with 1 Axes>"
      ]
     },
     "metadata": {
      "needs_background": "light"
     },
     "output_type": "display_data"
    }
   ],
   "source": [
    "plt.matshow(digits.images[67])"
   ]
  },
  {
   "cell_type": "code",
   "execution_count": 46,
   "metadata": {},
   "outputs": [
    {
     "data": {
      "text/plain": [
       "array([6])"
      ]
     },
     "execution_count": 46,
     "metadata": {},
     "output_type": "execute_result"
    }
   ],
   "source": [
    "log.predict([digits.data[67]])"
   ]
  },
  {
   "cell_type": "code",
   "execution_count": 47,
   "metadata": {},
   "outputs": [],
   "source": [
    "y_predict = log.predict(X_test)"
   ]
  },
  {
   "cell_type": "code",
   "execution_count": 50,
   "metadata": {},
   "outputs": [
    {
     "data": {
      "text/plain": [
       "array([[36,  0,  0,  0,  0,  0,  0,  0,  0,  0],\n",
       "       [ 0, 42,  0,  0,  0,  0,  0,  0,  0,  1],\n",
       "       [ 0,  0, 30,  0,  0,  0,  0,  0,  0,  0],\n",
       "       [ 0,  0,  1, 34,  0,  0,  0,  0,  0,  0],\n",
       "       [ 0,  2,  0,  0, 38,  0,  0,  1,  1,  2],\n",
       "       [ 0,  0,  0,  0,  0, 22,  0,  1,  0,  2],\n",
       "       [ 0,  0,  0,  0,  0,  0, 39,  0,  1,  0],\n",
       "       [ 0,  0,  0,  0,  0,  0,  0, 34,  0,  0],\n",
       "       [ 0,  0,  0,  1,  0,  0,  1,  0, 29,  0],\n",
       "       [ 0,  0,  0,  0,  0,  0,  0,  0,  1, 41]], dtype=int64)"
      ]
     },
     "execution_count": 50,
     "metadata": {},
     "output_type": "execute_result"
    }
   ],
   "source": [
    "from sklearn.metrics import confusion_matrix\n",
    "cm = confusion_matrix(y_test, y_predict)\n",
    "cm"
   ]
  },
  {
   "cell_type": "code",
   "execution_count": 52,
   "metadata": {},
   "outputs": [
    {
     "data": {
      "text/plain": [
       "<module 'matplotlib.pyplot' from 'C:\\\\Users\\\\Rishit\\\\anaconda3\\\\lib\\\\site-packages\\\\matplotlib\\\\pyplot.py'>"
      ]
     },
     "execution_count": 52,
     "metadata": {},
     "output_type": "execute_result"
    },
    {
     "data": {
      "image/png": "[encoded data removed]",
      "text/plain": [
       "<Figure size 432x288 with 2 Axes>"
      ]
     },
     "metadata": {
      "needs_background": "light"
     },
     "output_type": "display_data"
    }
   ],
   "source": [
    "import seaborn as sns\n",
    "#plt.figure(figsize = (10,7))\n",
    "sns.heatmap(cm, annot = True)\n",
    "plt.xlabel('Predicted')\n",
    "plt.ylabel('Truth')\n",
    "plt"
   ]
  },
  {
   "cell_type": "code",
   "execution_count": 53,
   "metadata": {},
   "outputs": [
    {
     "data": {
      "text/plain": [
       "array([1, 3, 2, 6, 3, 4, 1, 0, 9, 5, 9, 4, 1, 3, 9, 6, 8, 9, 6, 3, 9, 3,\n",
       "       9, 2, 9, 9, 3, 9, 7, 1, 0, 6, 7, 4, 8, 7, 6, 3, 5, 9, 5, 4, 7, 4,\n",
       "       9, 7, 4, 0, 8, 0, 5, 6, 4, 9, 5, 3, 2, 4, 0, 4, 8, 6, 6, 9, 5, 6,\n",
       "       0, 5, 2, 1, 3, 0, 9, 0, 0, 8, 0, 4, 6, 0, 7, 2, 1, 5, 9, 2, 6, 8,\n",
       "       6, 7, 8, 7, 4, 1, 0, 8, 4, 4, 7, 3, 3, 6, 4, 6, 4, 2, 6, 0, 3, 1,\n",
       "       6, 2, 6, 0, 3, 9, 4, 6, 3, 5, 9, 0, 6, 1, 6, 1, 8, 0, 2, 6, 4, 0,\n",
       "       9, 4, 8, 2, 4, 1, 9, 5, 5, 3, 3, 5, 0, 9, 7, 0, 9, 9, 9, 5, 8, 2,\n",
       "       2, 8, 4, 1, 1, 0, 9, 8, 1, 0, 2, 8, 9, 0, 7, 9, 3, 5, 4, 2, 2, 5,\n",
       "       1, 2, 5, 9, 7, 4, 1, 3, 6, 1, 8, 8, 0, 2, 9, 3, 8, 9, 6, 8, 4, 7,\n",
       "       1, 7, 1, 6, 3, 1, 7, 9, 4, 3, 9, 4, 4, 7, 4, 6, 7, 1, 8, 3, 0, 7,\n",
       "       7, 9, 6, 8, 9, 2, 9, 3, 4, 0, 1, 7, 1, 6, 9, 3, 8, 1, 1, 1, 3, 0,\n",
       "       6, 2, 1, 1, 0, 5, 7, 6, 6, 5, 4, 8, 2, 7, 7, 9, 8, 0, 8, 2, 7, 4,\n",
       "       8, 7, 7, 9, 2, 1, 6, 9, 8, 8, 0, 7, 3, 2, 3, 3, 6, 1, 7, 6, 3, 2,\n",
       "       2, 1, 4, 2, 1, 4, 6, 0, 1, 3, 3, 8, 8, 5, 7, 7, 9, 2, 3, 9, 5, 0,\n",
       "       0, 3, 1, 2, 8, 4, 9, 5, 9, 1, 1, 6, 6, 1, 0, 4, 6, 7, 2, 5, 8, 0,\n",
       "       0, 1, 4, 1, 9, 6, 7, 0, 3, 8, 7, 6, 4, 4, 7, 9, 3, 4, 7, 2, 9, 1,\n",
       "       1, 2, 1, 1, 6, 7, 1, 9])"
      ]
     },
     "execution_count": 53,
     "metadata": {},
     "output_type": "execute_result"
    }
   ],
   "source": [
    "y_predict"
   ]
  },
  {
   "cell_type": "code",
   "execution_count": 54,
   "metadata": {},
   "outputs": [
    {
     "data": {
      "text/plain": [
       "array([1, 3, 2, 6, 3, 4, 1, 0, 9, 5, 9, 4, 1, 3, 9, 6, 4, 9, 6, 3, 4, 3,\n",
       "       9, 2, 9, 9, 3, 9, 7, 1, 0, 6, 7, 4, 6, 7, 6, 3, 5, 4, 5, 4, 7, 4,\n",
       "       9, 7, 4, 0, 9, 0, 5, 6, 4, 9, 5, 3, 2, 4, 0, 4, 8, 6, 6, 9, 5, 6,\n",
       "       0, 5, 2, 1, 3, 0, 9, 0, 0, 8, 0, 4, 6, 0, 7, 2, 4, 5, 9, 2, 6, 8,\n",
       "       6, 7, 8, 7, 4, 1, 0, 8, 4, 4, 7, 3, 3, 6, 4, 6, 4, 2, 6, 0, 3, 1,\n",
       "       6, 2, 6, 0, 3, 9, 4, 6, 3, 5, 9, 0, 6, 1, 6, 1, 8, 0, 2, 6, 4, 0,\n",
       "       9, 4, 8, 2, 4, 1, 9, 5, 5, 3, 3, 5, 0, 9, 7, 0, 9, 9, 9, 5, 8, 2,\n",
       "       2, 8, 4, 1, 1, 0, 9, 8, 1, 0, 2, 8, 9, 0, 7, 9, 3, 5, 4, 2, 2, 5,\n",
       "       1, 2, 5, 9, 7, 4, 1, 3, 6, 1, 8, 8, 0, 2, 9, 3, 8, 9, 6, 8, 4, 7,\n",
       "       1, 7, 1, 6, 3, 1, 7, 9, 4, 3, 9, 4, 4, 7, 4, 6, 7, 1, 8, 3, 0, 7,\n",
       "       7, 9, 6, 8, 9, 2, 9, 3, 4, 0, 1, 7, 1, 6, 9, 3, 8, 1, 1, 1, 8, 0,\n",
       "       6, 2, 1, 1, 0, 5, 7, 6, 6, 5, 4, 8, 2, 7, 7, 9, 8, 0, 8, 2, 7, 4,\n",
       "       8, 7, 7, 9, 2, 1, 6, 1, 8, 8, 0, 7, 3, 2, 3, 3, 6, 1, 5, 8, 3, 2,\n",
       "       2, 1, 4, 2, 1, 4, 6, 0, 1, 3, 3, 8, 8, 5, 7, 7, 9, 2, 3, 9, 5, 0,\n",
       "       0, 3, 1, 2, 8, 4, 5, 5, 9, 1, 1, 6, 6, 1, 0, 4, 6, 7, 2, 5, 8, 0,\n",
       "       0, 1, 4, 1, 9, 6, 4, 0, 3, 8, 7, 6, 4, 4, 7, 9, 3, 4, 7, 2, 5, 1,\n",
       "       1, 3, 1, 1, 6, 7, 4, 9])"
      ]
     },
     "execution_count": 54,
     "metadata": {},
     "output_type": "execute_result"
    }
   ],
   "source": [
    "y_test"
   ]
  },
  {
   "cell_type": "code",
   "execution_count": null,
   "metadata": {},
   "outputs": [],
   "source": []
  }
 ],
 "metadata": {
  "kernelspec": {
   "display_name": "Python 3",
   "language": "python",
   "name": "python3"
  },
  "language_info": {
   "codemirror_mode": {
    "name": "ipython",
    "version": 3
   },
   "file_extension": ".py",
   "mimetype": "text/x-python",
   "name": "python",
   "nbconvert_exporter": "python",
   "pygments_lexer": "ipython3",
   "version": "3.8.3"
  }
 },
 "nbformat": 4,
 "nbformat_minor": 4
}
